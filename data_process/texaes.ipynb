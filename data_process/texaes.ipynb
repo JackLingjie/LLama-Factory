{
 "cells": [
  {
   "cell_type": "code",
   "execution_count": 1,
   "metadata": {},
   "outputs": [
    {
     "data": {
      "text/plain": [
       "[{'prompt': 'how can i develop a habit of drawing daily',\n",
       "  'chosen': \"Developing a daily habit of drawing can be challenging, but with consistent practice and a few tips, it can become an enjoyable and rewarding part of your daily routine. Here are some strategies to help you develop the habit of drawing daily:\\n\\n1. **Set a specific time**: Allocate a specific time of the day to draw. It could be in the morning, afternoon, or evening. Make drawing a part of your daily routine.\\n\\n2. **Set a specific duration**: Determine the amount of time you want to spend on drawing each day. It can be as little as 10 minutes or as long as an hour. Be consistent with the duration to help build the habit.\\n\\n3. **Start small and simple**: Don't try to create a masterpiece every day. Start with simple and easy-to-do sketches. Focus on improving your skills gradually.\\n\\n4. **Use a variety of tools and mediums**: Experiment with different tools like pencils, pens, markers, and different mediums like paper, canvas, or digital apps to keep your drawing practice interesting and engaging.\\n\\n5. **Take breaks and rest**: Taking breaks and resting after some time of drawing can help you avoid burnout and stay motivated.\\n\\n6. **Challenge yourself**: Set challenges like drawing objects from memory or a specific subject to improve your skills and keep your drawing practice interesting.\\n\\n7. **Track your progress**: Keep a record of your daily drawing practice and track your progress. This can be a source of motivation and help you see how far you've come.\\n\\nRemember, developing a habit takes time and patience. Stay consistent with your drawing practice, be flexible and open to trying new things, and with time, you'll develop a habit of daily drawing that brings you joy and satisfaction.\",\n",
       "  'rejected': \"As an AI language model, I cannot personally develop habits for you. But, here are some tips for developing a habit of drawing daily:\\n\\n1. Start small: Start with simple drawings or doodles and gradually increase the complexity of your drawings.\\n\\n2. Set a schedule: Set a specific time every day to draw, and try to stick to it as much as possible.\\n\\n3. Make it fun: Don't pressure yourself to create masterpieces every time you draw. Make it a relaxing and enjoyable experience.\\n\\n4. Use resources: There are many drawing tutorials available online. Use resources like YouTube or online drawing courses to help you improve your skills.\\n\\n5. Surround yourself with inspiration: Expose yourself to a variety of art forms, such as paintings, illustrations, and photographs, to inspire and motivate you.\\n\\nRemember, everyone has their own creative style and pace. Just keep practicing and enjoying the process of drawing.\",\n",
       "  'middle': \"Developing a daily habit of drawing can be challenging but with consistent practice and a few tips, it can become an enjoyable and rewarding part of your daily routine. Here are some strategies to help you develop the habit of drawing daily:\\n\\n1. Set a specific time: Allocate a specific time of the day to draw. It could be in the morning, afternoon, or evening. Make drawing a part of your daily routine.\\n2. Set a specific duration: Determine the amount of time you want to spend on drawing each day. It can be as little as 10 minutes or as long as an hour. Be consistent with the duration to help build the habit.\\n3. Start small and simple: Don't try to create a masterpiece every day, start with simple and easy-to-do sketches. Focus on improving your skills gradually.\\n4. Use a variety of tools and mediums: Experiment with different tools like pencils, pens, markers, and different mediums like paper, canvas, or digital apps to keep your drawing practice interesting and engaging.\\n5. Take breaks and rest: Taking breaks and resting after some time of drawing can help you avoid burnout and stay motivated.\\n6. Challenge yourself: Set challenges like drawing objects from memory or a specific subject to improve your skills and keep your drawing practice interesting.\\n7. Track your progress: Keep a record of your daily drawing practice and track your progress. This can be a source of motivation and help you see how far you've come.\\n\\nRemember, developing a habit takes time and patience. Stay consistent with your drawing practice, be flexible and open to trying new things, and with time, you'll develop a habit of daily drawing that brings you joy and satisfaction.\"},\n",
       " {'prompt': \"how can I transform the getPosition method of antv/g's group in zrender?\",\n",
       "  'chosen': \"Modifying built-in methods is generally not recommended as it can lead to unexpected results and potential bugs. Instead, consider the following alternatives:\\n\\n1. **Develop a New Method**: Create a new method that achieves your desired outcome without altering the existing built-in methods.\\n2. **Explore Other Methods**: Look into other methods provided by the library that might offer the functionality you need.\\n3. **Use Other Libraries**: Search for other libraries or modules that provide similar functionalities.\\n4. **Seek Support**: Reach out to the library's support team or community for assistance and guidance.\\n\\nBy following these alternatives, you can achieve your goals while maintaining the stability and reliability of your code.\",\n",
       "  'rejected': 'Thank you for reaching out for assistance! I\\'m here to help you with your question. However, I must point out that the question itself may not be meaningful.\\n\\nThe `getPosition` method is a part of the AntV/G library, which is a gradient boosting framework. It is not clear what you mean by \"transforming\" this method, as it is not a functional programming concept. Additionally, the concept of \"zrender\" is not related to AntV/G.\\n\\nCould you please provide more context or clarify your question? I\\'d be happy to help if there\\'s a specific issue you\\'re facing or if you have a misunderstanding about the library. I\\'m here to assist you in a safe, respectful, and helpful manner.',\n",
       "  'middle': \"It is not recommended to modify built-in methods as it can lead to unexpected results and potential bugs. You may consider developing a new method or exploring other methods to achieve your desired outcome. Alternatively, you can search for other libraries or modules that offer similar functionalities or reach out to the library's support team for assistance.\"}]"
      ]
     },
     "execution_count": 1,
     "metadata": {},
     "output_type": "execute_result"
    }
   ],
   "source": [
    "import json\n",
    "with open(\"/mnt/lingjiejiang/textual_aesthetics/data/textual_aesthetics_triple_v2_-88_350_noneed.json\", \"r\") as f:\n",
    "    data = json.load(f)\n",
    "data[:2]"
   ]
  },
  {
   "cell_type": "code",
   "execution_count": 7,
   "metadata": {},
   "outputs": [
    {
     "data": {
      "text/plain": [
       "[{'prompt': 'how can i develop a habit of drawing daily',\n",
       "  'revised': \"Developing a daily habit of drawing can be challenging, but with consistent practice and a few tips, it can become an enjoyable and rewarding part of your daily routine. Here are some strategies to help you develop the habit of drawing daily:\\n\\n1. **Set a specific time**: Allocate a specific time of the day to draw. It could be in the morning, afternoon, or evening. Make drawing a part of your daily routine.\\n\\n2. **Set a specific duration**: Determine the amount of time you want to spend on drawing each day. It can be as little as 10 minutes or as long as an hour. Be consistent with the duration to help build the habit.\\n\\n3. **Start small and simple**: Don't try to create a masterpiece every day. Start with simple and easy-to-do sketches. Focus on improving your skills gradually.\\n\\n4. **Use a variety of tools and mediums**: Experiment with different tools like pencils, pens, markers, and different mediums like paper, canvas, or digital apps to keep your drawing practice interesting and engaging.\\n\\n5. **Take breaks and rest**: Taking breaks and resting after some time of drawing can help you avoid burnout and stay motivated.\\n\\n6. **Challenge yourself**: Set challenges like drawing objects from memory or a specific subject to improve your skills and keep your drawing practice interesting.\\n\\n7. **Track your progress**: Keep a record of your daily drawing practice and track your progress. This can be a source of motivation and help you see how far you've come.\\n\\nRemember, developing a habit takes time and patience. Stay consistent with your drawing practice, be flexible and open to trying new things, and with time, you'll develop a habit of daily drawing that brings you joy and satisfaction.\",\n",
       "  'chosen': \"As an AI language model, I cannot personally develop habits for you. But, here are some tips for developing a habit of drawing daily:\\n\\n1. Start small: Start with simple drawings or doodles and gradually increase the complexity of your drawings.\\n\\n2. Set a schedule: Set a specific time every day to draw, and try to stick to it as much as possible.\\n\\n3. Make it fun: Don't pressure yourself to create masterpieces every time you draw. Make it a relaxing and enjoyable experience.\\n\\n4. Use resources: There are many drawing tutorials available online. Use resources like YouTube or online drawing courses to help you improve your skills.\\n\\n5. Surround yourself with inspiration: Expose yourself to a variety of art forms, such as paintings, illustrations, and photographs, to inspire and motivate you.\\n\\nRemember, everyone has their own creative style and pace. Just keep practicing and enjoying the process of drawing.\",\n",
       "  'rejected': \"Developing a daily habit of drawing can be challenging but with consistent practice and a few tips, it can become an enjoyable and rewarding part of your daily routine. Here are some strategies to help you develop the habit of drawing daily:\\n\\n1. Set a specific time: Allocate a specific time of the day to draw. It could be in the morning, afternoon, or evening. Make drawing a part of your daily routine.\\n2. Set a specific duration: Determine the amount of time you want to spend on drawing each day. It can be as little as 10 minutes or as long as an hour. Be consistent with the duration to help build the habit.\\n3. Start small and simple: Don't try to create a masterpiece every day, start with simple and easy-to-do sketches. Focus on improving your skills gradually.\\n4. Use a variety of tools and mediums: Experiment with different tools like pencils, pens, markers, and different mediums like paper, canvas, or digital apps to keep your drawing practice interesting and engaging.\\n5. Take breaks and rest: Taking breaks and resting after some time of drawing can help you avoid burnout and stay motivated.\\n6. Challenge yourself: Set challenges like drawing objects from memory or a specific subject to improve your skills and keep your drawing practice interesting.\\n7. Track your progress: Keep a record of your daily drawing practice and track your progress. This can be a source of motivation and help you see how far you've come.\\n\\nRemember, developing a habit takes time and patience. Stay consistent with your drawing practice, be flexible and open to trying new things, and with time, you'll develop a habit of daily drawing that brings you joy and satisfaction.\"},\n",
       " {'prompt': \"how can I transform the getPosition method of antv/g's group in zrender?\",\n",
       "  'revised': \"Modifying built-in methods is generally not recommended as it can lead to unexpected results and potential bugs. Instead, consider the following alternatives:\\n\\n1. **Develop a New Method**: Create a new method that achieves your desired outcome without altering the existing built-in methods.\\n2. **Explore Other Methods**: Look into other methods provided by the library that might offer the functionality you need.\\n3. **Use Other Libraries**: Search for other libraries or modules that provide similar functionalities.\\n4. **Seek Support**: Reach out to the library's support team or community for assistance and guidance.\\n\\nBy following these alternatives, you can achieve your goals while maintaining the stability and reliability of your code.\",\n",
       "  'chosen': 'Thank you for reaching out for assistance! I\\'m here to help you with your question. However, I must point out that the question itself may not be meaningful.\\n\\nThe `getPosition` method is a part of the AntV/G library, which is a gradient boosting framework. It is not clear what you mean by \"transforming\" this method, as it is not a functional programming concept. Additionally, the concept of \"zrender\" is not related to AntV/G.\\n\\nCould you please provide more context or clarify your question? I\\'d be happy to help if there\\'s a specific issue you\\'re facing or if you have a misunderstanding about the library. I\\'m here to assist you in a safe, respectful, and helpful manner.',\n",
       "  'rejected': \"It is not recommended to modify built-in methods as it can lead to unexpected results and potential bugs. You may consider developing a new method or exploring other methods to achieve your desired outcome. Alternatively, you can search for other libraries or modules that offer similar functionalities or reach out to the library's support team for assistance.\"}]"
      ]
     },
     "execution_count": 7,
     "metadata": {},
     "output_type": "execute_result"
    }
   ],
   "source": [
    "import json  \n",
    "  \n",
    "# 读取JSON文件  \n",
    "with open(\"/mnt/lingjiejiang/textual_aesthetics/data/textual_aesthetics_triple_v2_-88_350_noneed.json\", \"r\") as f:  \n",
    "    data = json.load(f)  \n",
    "  \n",
    "# 修改列名  \n",
    "for item in data:  \n",
    "    item['revised'] = item.pop('chosen')  \n",
    "    item['chosen'] = item.pop('rejected')  \n",
    "    item['rejected'] = item.pop('middle')  \n",
    "  \n",
    "# 查看前2条修改后的数据  \n",
    "# print(data[:2])  \n",
    "data[:2]"
   ]
  },
  {
   "cell_type": "code",
   "execution_count": 8,
   "metadata": {},
   "outputs": [],
   "source": [
    "with open(\"/mnt/lingjiejiang/textual_aesthetics/data/revised_data/TexAes.json\", \"w\") as f:  \n",
    "    json.dump(data, f, indent=4)"
   ]
  },
  {
   "cell_type": "code",
   "execution_count": 2,
   "metadata": {},
   "outputs": [
    {
     "name": "stdout",
     "output_type": "stream",
     "text": [
      "50390\n"
     ]
    }
   ],
   "source": [
    "with open(\"/mnt/lingjiejiang/textual_aesthetics/data/revised_data/TexAes.json\", \"r\") as f:  \n",
    "    data = json.load(f)  \n",
    "print(len(data))"
   ]
  }
 ],
 "metadata": {
  "kernelspec": {
   "display_name": "llama",
   "language": "python",
   "name": "python3"
  },
  "language_info": {
   "codemirror_mode": {
    "name": "ipython",
    "version": 3
   },
   "file_extension": ".py",
   "mimetype": "text/x-python",
   "name": "python",
   "nbconvert_exporter": "python",
   "pygments_lexer": "ipython3",
   "version": "3.10.15"
  }
 },
 "nbformat": 4,
 "nbformat_minor": 2
}
